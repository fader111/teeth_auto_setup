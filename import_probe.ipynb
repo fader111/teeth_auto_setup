{
 "cells": [
  {
   "cell_type": "code",
   "execution_count": 3,
   "source": [
    "import numpy as np\r\n",
    "import jaw_gen\r\n",
    "# from jaw_encoder_cnn_vector import Landmark_gen\r\n",
    "# a= Landmark_gen()\r\n",
    "# print(a)\r\n",
    "ex = jaw_gen.Landmark_gen(dim=(400, 400)) \r\n",
    "# генерируем разные картинки\r\n",
    "for i in range(30):  \r\n",
    "    scale =  9 + np.random.sample()*3    # 9,3 это для размера 200, для размера 400 - диапазон от 14 до 19 \r\n",
    "    factor = 2.2 + np.random.sample()/4   # 2.2, 4 - это для размера 200, для размера 400 - диапазон 2.5 - 2.7  \r\n",
    "    name = f\"scale {scale:.4}  factor {factor:.3}\"\r\n",
    "    ex.image_gen(show=True, scale1=scale, factor=factor, name=name, spoiled=True, shiftX=True, shift_y=True)\r\n",
    "    # print(scale, factor)\r\n",
    "\r\n"
   ],
   "outputs": [],
   "metadata": {}
  }
 ],
 "metadata": {
  "orig_nbformat": 4,
  "language_info": {
   "name": "python",
   "version": "3.7.9",
   "mimetype": "text/x-python",
   "codemirror_mode": {
    "name": "ipython",
    "version": 3
   },
   "pygments_lexer": "ipython3",
   "nbconvert_exporter": "python",
   "file_extension": ".py"
  },
  "kernelspec": {
   "name": "python3",
   "display_name": "Python 3.7.9 64-bit"
  },
  "interpreter": {
   "hash": "04635d289a519a1410467dd0afb0db42f9184808881ca68b2eb5a687a20a5a94"
  }
 },
 "nbformat": 4,
 "nbformat_minor": 2
}
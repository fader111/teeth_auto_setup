{
 "cells": [
  {
   "cell_type": "code",
   "execution_count": 2,
   "source": [
    "import tensorflow\r\n",
    "from tensorflow.keras.datasets import mnist\r\n",
    "import numpy as np\r\n",
    "\r\n",
    "(x_train, y_train), (x_test, y_test) = mnist.load_data()\r\n",
    "\r\n",
    "x_train = x_train.astype('float32') / 255.\r\n",
    "x_test  = x_test .astype('float32') / 255.\r\n",
    "x_train = np.reshape(x_train, (len(x_train), 28, 28, 1))\r\n",
    "x_test  = np.reshape(x_test,  (len(x_test),  28, 28, 1))"
   ],
   "outputs": [],
   "metadata": {}
  },
  {
   "cell_type": "code",
   "execution_count": 3,
   "source": [
    "from tensorflow.keras.layers import Input, Dense, Flatten, Reshape\r\n",
    "from tensorflow.keras.models import Model"
   ],
   "outputs": [],
   "metadata": {}
  },
  {
   "cell_type": "code",
   "execution_count": 4,
   "source": [
    "from tensorflow.keras.layers import Conv2D, MaxPooling2D, UpSampling2D\r\n",
    "\r\n",
    "def create_deep_conv_ae():\r\n",
    "    input_img = Input(shape=(28, 28, 1))\r\n",
    "\r\n",
    "    x = Conv2D(128, (7, 7), activation='relu', padding='same')(input_img)\r\n",
    "    x = MaxPooling2D((2, 2), padding='same')(x)\r\n",
    "    x = Conv2D(32, (2, 2), activation='relu', padding='same')(x)\r\n",
    "    x = MaxPooling2D((2, 2), padding='same')(x)\r\n",
    "    encoded = Conv2D(1, (7, 7), activation='relu', padding='same')(x)\r\n",
    "\r\n",
    "    # На этом моменте представление  (7, 7, 1) т.е. 49-размерное\r\n",
    "\r\n",
    "    input_encoded = Input(shape=(7, 7, 1))\r\n",
    "    x = Conv2D(32, (7, 7), activation='relu', padding='same')(input_encoded)\r\n",
    "    x = UpSampling2D((2, 2))(x)\r\n",
    "    x = Conv2D(128, (2, 2), activation='relu', padding='same')(x)\r\n",
    "    x = UpSampling2D((2, 2))(x)\r\n",
    "    decoded = Conv2D(1, (7, 7), activation='sigmoid', padding='same')(x)\r\n",
    "\r\n",
    "    # Модели\r\n",
    "    encoder = Model(input_img, encoded, name=\"encoder\")\r\n",
    "    decoder = Model(input_encoded, decoded, name=\"decoder\")\r\n",
    "    autoencoder = Model(input_img, decoder(encoder(input_img)), name=\"autoencoder\")\r\n",
    "    return encoder, decoder, autoencoder\r\n",
    "\r\n",
    "c_encoder, c_decoder, c_autoencoder = create_deep_conv_ae()\r\n",
    "c_autoencoder.compile(optimizer='adam', loss='binary_crossentropy')\r\n",
    "\r\n",
    "c_autoencoder.summary()"
   ],
   "outputs": [
    {
     "output_type": "stream",
     "name": "stdout",
     "text": [
      "Model: \"autoencoder\"\n",
      "_________________________________________________________________\n",
      "Layer (type)                 Output Shape              Param #   \n",
      "=================================================================\n",
      "input_1 (InputLayer)         [(None, 28, 28, 1)]       0         \n",
      "_________________________________________________________________\n",
      "encoder (Functional)         (None, 7, 7, 1)           24385     \n",
      "_________________________________________________________________\n",
      "decoder (Functional)         (None, 28, 28, 1)         24385     \n",
      "=================================================================\n",
      "Total params: 48,770\n",
      "Trainable params: 48,770\n",
      "Non-trainable params: 0\n",
      "_________________________________________________________________\n"
     ]
    }
   ],
   "metadata": {}
  },
  {
   "cell_type": "code",
   "execution_count": 5,
   "source": [
    "c_autoencoder.fit(x_train, x_train,\r\n",
    "                epochs=64,\r\n",
    "                batch_size=16,\r\n",
    "                shuffle=True,\r\n",
    "                validation_data=(x_test, x_test))"
   ],
   "outputs": [
    {
     "output_type": "stream",
     "name": "stdout",
     "text": [
      "Epoch 1/64\n",
      "3750/3750 [==============================] - 34s 7ms/step - loss: 0.0909 - val_loss: 0.0744\n",
      "Epoch 2/64\n",
      "3750/3750 [==============================] - 27s 7ms/step - loss: 0.0739 - val_loss: 0.0719\n",
      "Epoch 3/64\n",
      "3750/3750 [==============================] - 30s 8ms/step - loss: 0.0721 - val_loss: 0.0709\n",
      "Epoch 4/64\n",
      "3750/3750 [==============================] - 31s 8ms/step - loss: 0.0713 - val_loss: 0.0703\n",
      "Epoch 5/64\n",
      "3750/3750 [==============================] - 31s 8ms/step - loss: 0.0707 - val_loss: 0.0698\n",
      "Epoch 6/64\n",
      "3750/3750 [==============================] - 31s 8ms/step - loss: 0.0703 - val_loss: 0.0700\n",
      "Epoch 7/64\n",
      "3750/3750 [==============================] - 31s 8ms/step - loss: 0.0701 - val_loss: 0.0691\n",
      "Epoch 8/64\n",
      "3750/3750 [==============================] - 30s 8ms/step - loss: 0.0699 - val_loss: 0.0690\n",
      "Epoch 9/64\n",
      "3750/3750 [==============================] - 30s 8ms/step - loss: 0.0697 - val_loss: 0.0688\n",
      "Epoch 10/64\n",
      "3750/3750 [==============================] - 30s 8ms/step - loss: 0.0695 - val_loss: 0.0689\n",
      "Epoch 11/64\n",
      "3750/3750 [==============================] - 30s 8ms/step - loss: 0.0694 - val_loss: 0.0687\n",
      "Epoch 12/64\n",
      "3750/3750 [==============================] - 31s 8ms/step - loss: 0.0694 - val_loss: 0.0686\n",
      "Epoch 13/64\n",
      "3750/3750 [==============================] - 30s 8ms/step - loss: 0.0693 - val_loss: 0.0687\n",
      "Epoch 14/64\n",
      "3750/3750 [==============================] - 30s 8ms/step - loss: 0.0692 - val_loss: 0.0685\n",
      "Epoch 15/64\n",
      "3750/3750 [==============================] - 30s 8ms/step - loss: 0.0691 - val_loss: 0.0691\n",
      "Epoch 16/64\n",
      "3750/3750 [==============================] - 30s 8ms/step - loss: 0.0691 - val_loss: 0.0688\n",
      "Epoch 17/64\n",
      "3750/3750 [==============================] - 32s 9ms/step - loss: 0.0690 - val_loss: 0.0682\n",
      "Epoch 18/64\n",
      "3750/3750 [==============================] - 31s 8ms/step - loss: 0.0689 - val_loss: 0.0683\n",
      "Epoch 19/64\n",
      "3750/3750 [==============================] - 31s 8ms/step - loss: 0.0689 - val_loss: 0.0683\n",
      "Epoch 20/64\n",
      "3750/3750 [==============================] - 31s 8ms/step - loss: 0.0689 - val_loss: 0.0683\n",
      "Epoch 21/64\n",
      "3750/3750 [==============================] - 31s 8ms/step - loss: 0.0688 - val_loss: 0.0688\n",
      "Epoch 22/64\n",
      "3750/3750 [==============================] - 31s 8ms/step - loss: 0.0688 - val_loss: 0.0687\n",
      "Epoch 23/64\n",
      "3750/3750 [==============================] - 31s 8ms/step - loss: 0.0687 - val_loss: 0.0683\n",
      "Epoch 24/64\n",
      "3750/3750 [==============================] - 30s 8ms/step - loss: 0.0687 - val_loss: 0.0683\n",
      "Epoch 25/64\n",
      "3750/3750 [==============================] - 30s 8ms/step - loss: 0.0687 - val_loss: 0.0682\n",
      "Epoch 26/64\n",
      "3750/3750 [==============================] - 30s 8ms/step - loss: 0.0687 - val_loss: 0.0680\n",
      "Epoch 27/64\n",
      "3750/3750 [==============================] - 30s 8ms/step - loss: 0.0687 - val_loss: 0.0683\n",
      "Epoch 28/64\n",
      "3750/3750 [==============================] - 31s 8ms/step - loss: 0.0686 - val_loss: 0.0681\n",
      "Epoch 29/64\n",
      "3750/3750 [==============================] - 30s 8ms/step - loss: 0.0686 - val_loss: 0.0683\n",
      "Epoch 30/64\n",
      "3750/3750 [==============================] - 30s 8ms/step - loss: 0.0686 - val_loss: 0.0680\n",
      "Epoch 31/64\n",
      "3750/3750 [==============================] - 30s 8ms/step - loss: 0.0686 - val_loss: 0.0683\n",
      "Epoch 32/64\n",
      "3750/3750 [==============================] - 30s 8ms/step - loss: 0.0686 - val_loss: 0.0679\n",
      "Epoch 33/64\n",
      "3750/3750 [==============================] - 30s 8ms/step - loss: 0.0686 - val_loss: 0.0681\n",
      "Epoch 34/64\n",
      "3750/3750 [==============================] - 30s 8ms/step - loss: 0.0686 - val_loss: 0.0687\n",
      "Epoch 35/64\n",
      "3750/3750 [==============================] - 30s 8ms/step - loss: 0.0685 - val_loss: 0.0681\n",
      "Epoch 36/64\n",
      "3750/3750 [==============================] - 30s 8ms/step - loss: 0.0685 - val_loss: 0.0685\n",
      "Epoch 37/64\n",
      "3750/3750 [==============================] - 30s 8ms/step - loss: 0.0685 - val_loss: 0.0680\n",
      "Epoch 38/64\n",
      "3750/3750 [==============================] - 31s 8ms/step - loss: 0.0685 - val_loss: 0.0683\n",
      "Epoch 39/64\n",
      "3750/3750 [==============================] - 31s 8ms/step - loss: 0.0685 - val_loss: 0.0681\n",
      "Epoch 40/64\n",
      "3750/3750 [==============================] - 31s 8ms/step - loss: 0.0684 - val_loss: 0.0681\n",
      "Epoch 41/64\n",
      "3750/3750 [==============================] - 30s 8ms/step - loss: 0.0684 - val_loss: 0.0685\n",
      "Epoch 42/64\n",
      "3750/3750 [==============================] - 30s 8ms/step - loss: 0.0684 - val_loss: 0.0679\n",
      "Epoch 43/64\n",
      "3750/3750 [==============================] - 31s 8ms/step - loss: 0.0684 - val_loss: 0.0690\n",
      "Epoch 44/64\n",
      "3750/3750 [==============================] - 30s 8ms/step - loss: 0.0684 - val_loss: 0.0678\n",
      "Epoch 45/64\n",
      "3750/3750 [==============================] - 30s 8ms/step - loss: 0.0684 - val_loss: 0.0683\n",
      "Epoch 46/64\n",
      "3750/3750 [==============================] - 30s 8ms/step - loss: 0.0684 - val_loss: 0.0677\n",
      "Epoch 47/64\n",
      "3750/3750 [==============================] - 30s 8ms/step - loss: 0.0684 - val_loss: 0.0680\n",
      "Epoch 48/64\n",
      "3750/3750 [==============================] - 30s 8ms/step - loss: 0.0684 - val_loss: 0.0678\n",
      "Epoch 49/64\n",
      "3750/3750 [==============================] - 30s 8ms/step - loss: 0.0684 - val_loss: 0.0678\n",
      "Epoch 50/64\n",
      "3750/3750 [==============================] - 30s 8ms/step - loss: 0.0684 - val_loss: 0.0679\n",
      "Epoch 51/64\n",
      "3750/3750 [==============================] - 30s 8ms/step - loss: 0.0684 - val_loss: 0.0678\n",
      "Epoch 52/64\n",
      "3750/3750 [==============================] - 30s 8ms/step - loss: 0.0683 - val_loss: 0.0678\n",
      "Epoch 53/64\n",
      "3750/3750 [==============================] - 30s 8ms/step - loss: 0.0683 - val_loss: 0.0679\n",
      "Epoch 54/64\n",
      "3750/3750 [==============================] - 31s 8ms/step - loss: 0.0683 - val_loss: 0.0678\n",
      "Epoch 55/64\n",
      "3750/3750 [==============================] - 30s 8ms/step - loss: 0.0683 - val_loss: 0.0691\n",
      "Epoch 56/64\n",
      "3750/3750 [==============================] - 30s 8ms/step - loss: 0.0683 - val_loss: 0.0679\n",
      "Epoch 57/64\n",
      "3750/3750 [==============================] - 30s 8ms/step - loss: 0.0683 - val_loss: 0.0679\n",
      "Epoch 58/64\n",
      "3750/3750 [==============================] - 29s 8ms/step - loss: 0.0683 - val_loss: 0.0680\n",
      "Epoch 59/64\n",
      "3750/3750 [==============================] - 29s 8ms/step - loss: 0.0683 - val_loss: 0.0678\n",
      "Epoch 60/64\n",
      "3750/3750 [==============================] - 30s 8ms/step - loss: 0.0683 - val_loss: 0.0678\n",
      "Epoch 61/64\n",
      "3750/3750 [==============================] - 30s 8ms/step - loss: 0.0683 - val_loss: 0.0681\n",
      "Epoch 62/64\n",
      "3750/3750 [==============================] - 30s 8ms/step - loss: 0.0683 - val_loss: 0.0681\n",
      "Epoch 63/64\n",
      "3750/3750 [==============================] - 30s 8ms/step - loss: 0.0683 - val_loss: 0.0678\n",
      "Epoch 64/64\n",
      "3750/3750 [==============================] - 31s 8ms/step - loss: 0.0682 - val_loss: 0.0678\n"
     ]
    },
    {
     "output_type": "execute_result",
     "data": {
      "text/plain": [
       "<tensorflow.python.keras.callbacks.History at 0x17dc5499cc8>"
      ]
     },
     "metadata": {},
     "execution_count": 5
    }
   ],
   "metadata": {}
  },
  {
   "cell_type": "code",
   "execution_count": 6,
   "source": [
    "c_autoencoder.save('c_autoencoder.h5')\r\n",
    "c_encoder.save('c_encoder.h5')\r\n",
    "c_decoder.save('c_decoder.h5')"
   ],
   "outputs": [
    {
     "output_type": "stream",
     "name": "stdout",
     "text": [
      "WARNING:tensorflow:Compiled the loaded model, but the compiled metrics have yet to be built. `model.compile_metrics` will be empty until you train or evaluate the model.\n",
      "WARNING:tensorflow:Compiled the loaded model, but the compiled metrics have yet to be built. `model.compile_metrics` will be empty until you train or evaluate the model.\n"
     ]
    }
   ],
   "metadata": {}
  },
  {
   "cell_type": "code",
   "execution_count": 7,
   "source": [
    "%matplotlib inline\r\n",
    "import seaborn as sns\r\n",
    "import matplotlib.pyplot as plt\r\n",
    "\r\n",
    "def plot_digits(*args):\r\n",
    "    args = [x.squeeze() for x in args]\r\n",
    "    n = min([x.shape[0] for x in args])\r\n",
    "    \r\n",
    "    plt.figure(figsize=(2*n, 2*len(args)))\r\n",
    "    for j in range(n):\r\n",
    "        for i in range(len(args)):\r\n",
    "            ax = plt.subplot(len(args), n, i*n + j + 1)\r\n",
    "            plt.imshow(args[i][j])\r\n",
    "            plt.gray()\r\n",
    "            ax.get_xaxis().set_visible(False)\r\n",
    "            ax.get_yaxis().set_visible(False)\r\n",
    "\r\n",
    "    plt.show()"
   ],
   "outputs": [],
   "metadata": {}
  },
  {
   "cell_type": "code",
   "execution_count": 8,
   "source": [
    "n = 10\r\n",
    "\r\n",
    "imgs = x_test[:n]\r\n",
    "encoded_imgs = c_encoder.predict(imgs, batch_size=n)\r\n",
    "decoded_imgs = c_decoder.predict(encoded_imgs, batch_size=n)\r\n",
    "\r\n",
    "plot_digits(imgs, decoded_imgs)"
   ],
   "outputs": [
    {
     "output_type": "display_data",
     "data": {
      "image/png": "[encoded data removed]",
      "text/plain": [
       "<Figure size 1440x288 with 20 Axes>"
      ]
     },
     "metadata": {
      "needs_background": "light"
     }
    }
   ],
   "metadata": {}
  }
 ],
 "metadata": {
  "orig_nbformat": 4,
  "language_info": {
   "name": "python",
   "version": "3.7.9",
   "mimetype": "text/x-python",
   "codemirror_mode": {
    "name": "ipython",
    "version": 3
   },
   "pygments_lexer": "ipython3",
   "nbconvert_exporter": "python",
   "file_extension": ".py"
  },
  "kernelspec": {
   "name": "python3",
   "display_name": "Python 3.7.9 64-bit"
  },
  "interpreter": {
   "hash": "04635d289a519a1410467dd0afb0db42f9184808881ca68b2eb5a687a20a5a94"
  }
 },
 "nbformat": 4,
 "nbformat_minor": 2
}